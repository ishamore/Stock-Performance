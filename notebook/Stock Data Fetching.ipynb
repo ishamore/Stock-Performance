{
 "cells": [
  {
   "cell_type": "code",
   "execution_count": 1,
   "id": "2facab36",
   "metadata": {},
   "outputs": [
    {
     "name": "stdout",
     "output_type": "stream",
     "text": [
      "Requirement already satisfied: yfinance in /Users/ishamore/opt/anaconda3/lib/python3.8/site-packages (0.2.55)\n",
      "Requirement already satisfied: pandas in /Users/ishamore/opt/anaconda3/lib/python3.8/site-packages (2.0.3)\n",
      "Requirement already satisfied: pytz>=2020.1 in /Users/ishamore/opt/anaconda3/lib/python3.8/site-packages (from pandas) (2025.2)\n",
      "Requirement already satisfied: numpy>=1.20.3 in /Users/ishamore/opt/anaconda3/lib/python3.8/site-packages (from pandas) (1.24.4)\n",
      "Requirement already satisfied: python-dateutil>=2.8.2 in /Users/ishamore/opt/anaconda3/lib/python3.8/site-packages (from pandas) (2.9.0.post0)\n",
      "Requirement already satisfied: tzdata>=2022.1 in /Users/ishamore/opt/anaconda3/lib/python3.8/site-packages (from pandas) (2025.2)\n",
      "Requirement already satisfied: six>=1.5 in /Users/ishamore/opt/anaconda3/lib/python3.8/site-packages (from python-dateutil>=2.8.2->pandas) (1.15.0)\n",
      "Requirement already satisfied: multitasking>=0.0.7 in /Users/ishamore/opt/anaconda3/lib/python3.8/site-packages (from yfinance) (0.0.11)\n",
      "Requirement already satisfied: platformdirs>=2.0.0 in /Users/ishamore/opt/anaconda3/lib/python3.8/site-packages (from yfinance) (4.3.6)\n",
      "Requirement already satisfied: beautifulsoup4>=4.11.1 in /Users/ishamore/opt/anaconda3/lib/python3.8/site-packages (from yfinance) (4.13.3)\n",
      "Requirement already satisfied: peewee>=3.16.2 in /Users/ishamore/opt/anaconda3/lib/python3.8/site-packages (from yfinance) (3.17.9)\n",
      "Requirement already satisfied: frozendict>=2.3.4 in /Users/ishamore/opt/anaconda3/lib/python3.8/site-packages (from yfinance) (2.4.6)\n",
      "Requirement already satisfied: requests>=2.31 in /Users/ishamore/opt/anaconda3/lib/python3.8/site-packages (from yfinance) (2.32.3)\n",
      "Requirement already satisfied: soupsieve>1.2 in /Users/ishamore/opt/anaconda3/lib/python3.8/site-packages (from beautifulsoup4>=4.11.1->yfinance) (2.2.1)\n",
      "Requirement already satisfied: typing-extensions>=4.0.0 in /Users/ishamore/opt/anaconda3/lib/python3.8/site-packages (from beautifulsoup4>=4.11.1->yfinance) (4.12.2)\n",
      "Requirement already satisfied: idna<4,>=2.5 in /Users/ishamore/opt/anaconda3/lib/python3.8/site-packages (from requests>=2.31->yfinance) (2.10)\n",
      "Requirement already satisfied: certifi>=2017.4.17 in /Users/ishamore/opt/anaconda3/lib/python3.8/site-packages (from requests>=2.31->yfinance) (2020.12.5)\n",
      "Requirement already satisfied: urllib3<3,>=1.21.1 in /Users/ishamore/opt/anaconda3/lib/python3.8/site-packages (from requests>=2.31->yfinance) (1.26.4)\n",
      "Requirement already satisfied: charset-normalizer<4,>=2 in /Users/ishamore/opt/anaconda3/lib/python3.8/site-packages (from requests>=2.31->yfinance) (3.4.1)\n",
      "Note: you may need to restart the kernel to use updated packages.\n"
     ]
    }
   ],
   "source": [
    "pip install yfinance pandas"
   ]
  },
  {
   "cell_type": "code",
   "execution_count": 2,
   "id": "aeedd311",
   "metadata": {},
   "outputs": [
    {
     "name": "stdout",
     "output_type": "stream",
     "text": [
      "YF.download() has changed argument auto_adjust default to True\n"
     ]
    },
    {
     "name": "stderr",
     "output_type": "stream",
     "text": [
      "[*********************100%***********************]  1 of 1 completed\n",
      "[*********************100%***********************]  1 of 1 completed\n",
      "[*********************100%***********************]  1 of 1 completed\n",
      "[*********************100%***********************]  1 of 1 completed\n",
      "[*********************100%***********************]  1 of 1 completed\n",
      "[*********************100%***********************]  1 of 1 completed\n",
      "[*********************100%***********************]  1 of 1 completed\n"
     ]
    },
    {
     "name": "stdout",
     "output_type": "stream",
     "text": [
      "✅ Stock data saved to stock_data_1yr.csv\n"
     ]
    }
   ],
   "source": [
    "import yfinance as yf\n",
    "import pandas as pd\n",
    "\n",
    "# Define stock symbols (you can change/add more)\n",
    "symbols = ['AAPL', 'GOOGL', 'MSFT', 'AMZN', 'TSLA', 'NVDA', 'META']\n",
    "\n",
    "# Download historical data for the last 12 months\n",
    "start_date = \"2024-06-01\"\n",
    "end_date = \"2025-06-01\"\n",
    "\n",
    "# Fetch data for each symbol and format it\n",
    "all_data = []\n",
    "\n",
    "for symbol in symbols:\n",
    "    df = yf.download(symbol, start=start_date, end=end_date)\n",
    "    df.reset_index(inplace=True)\n",
    "    df['Ticker'] = symbol\n",
    "    all_data.append(df)\n",
    "\n",
    "# Combine all into a single DataFrame\n",
    "final_df = pd.concat(all_data)\n",
    "\n",
    "# Save to CSV\n",
    "final_df.to_csv('stock_data_1yr.csv', index=False)\n",
    "\n",
    "print(\"✅ Stock data saved to stock_data_1yr.csv\")\n"
   ]
  },
  {
   "cell_type": "code",
   "execution_count": null,
   "id": "65cba577",
   "metadata": {},
   "outputs": [],
   "source": []
  }
 ],
 "metadata": {
  "kernelspec": {
   "display_name": "Python 3",
   "language": "python",
   "name": "python3"
  },
  "language_info": {
   "codemirror_mode": {
    "name": "ipython",
    "version": 3
   },
   "file_extension": ".py",
   "mimetype": "text/x-python",
   "name": "python",
   "nbconvert_exporter": "python",
   "pygments_lexer": "ipython3",
   "version": "3.8.8"
  }
 },
 "nbformat": 4,
 "nbformat_minor": 5
}
